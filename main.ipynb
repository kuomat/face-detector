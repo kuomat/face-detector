{
 "cells": [
  {
   "cell_type": "code",
   "execution_count": 3,
   "metadata": {},
   "outputs": [],
   "source": [
    "import pandas as pd\n",
    "import numpy as np\n",
    "import cv2\n",
    "import imutils\n",
    "import json \n",
    "import requests"
   ]
  },
  {
   "attachments": {},
   "cell_type": "markdown",
   "metadata": {},
   "source": [
    "## Get face rectangles from each frame"
   ]
  },
  {
   "cell_type": "code",
   "execution_count": 4,
   "metadata": {},
   "outputs": [
    {
     "data": {
      "text/plain": [
       "True"
      ]
     },
     "execution_count": 4,
     "metadata": {},
     "output_type": "execute_result"
    }
   ],
   "source": [
    "# get the frontalface xml file\n",
    "url = \"https://raw.githubusercontent.com/opencv/opencv/master/data/haarcascades/haarcascade_frontalface_default.xml\"\n",
    "\n",
    "response = requests.get(url)\n",
    "# content = bytes(response.content)\n",
    "# Load the XML file into memory as a string\n",
    "xml_string = response.content.decode('utf-8')\n",
    "\n",
    "# Create a FileStorage object and read the XML string into it\n",
    "fs = cv2.FileStorage(xml_string, cv2.FILE_STORAGE_READ | cv2.FILE_STORAGE_MEMORY)\n",
    "cascade = cv2.CascadeClassifier()\n",
    "cascade.read(fs.getFirstTopLevelNode())"
   ]
  },
  {
   "cell_type": "code",
   "execution_count": 5,
   "metadata": {},
   "outputs": [],
   "source": [
    "rows = []\n",
    "\n",
    "\n",
    "# Function to extract frames\n",
    "def FrameCapture(path):\n",
    "  # Path to video file\n",
    "  vid_obj = cv2.VideoCapture(path)\n",
    "\n",
    "  # checks whether frames were extracted\n",
    "  success = 1\n",
    "  frame_count = 0\n",
    "\n",
    "  while success:\n",
    "      # vidObj object calls read\n",
    "      # function extract frames\n",
    "      success, image = vid_obj.read()\n",
    "\n",
    "      if image is None: \n",
    "        break\n",
    "\n",
    "      #loading face detector\n",
    "      detector = cv2.CascadeClassifier()\n",
    "      detector.read(fs.getFirstTopLevelNode())\n",
    "\n",
    "      # resize image and convert it to grayscale\n",
    "      image = imutils.resize(image, width=500)\n",
    "      gray = cv2.cvtColor(image, cv2.COLOR_BGR2GRAY)\n",
    "\n",
    "      # detect faces in image using the haar cascade face detector\n",
    "      rects = detector.detectMultiScale(image=gray, \n",
    "                                        scaleFactor=1.1, \n",
    "                                        minNeighbors=9, \n",
    "                                        minSize=(30, 30), \n",
    "                                        flags=cv2.CASCADE_SCALE_IMAGE)\n",
    "\n",
    "      #extract x,y,w,h of each rect and store in dataframe\n",
    "      for (x, y, w, h) in rects:\n",
    "        row = {'frame': frame_count, 'x': x, 'y': y, 'w': w, 'h': h}\n",
    "        rows.append(row)\n",
    "\n",
    "      frame_count += 1\n",
    "  return pd.DataFrame(rows)"
   ]
  },
  {
   "cell_type": "code",
   "execution_count": 6,
   "metadata": {},
   "outputs": [],
   "source": [
    "video_path = './ML0001_1.mp4'\n",
    "video_df = FrameCapture(video_path)"
   ]
  },
  {
   "cell_type": "code",
   "execution_count": 7,
   "metadata": {},
   "outputs": [
    {
     "data": {
      "text/html": [
       "<div>\n",
       "<style scoped>\n",
       "    .dataframe tbody tr th:only-of-type {\n",
       "        vertical-align: middle;\n",
       "    }\n",
       "\n",
       "    .dataframe tbody tr th {\n",
       "        vertical-align: top;\n",
       "    }\n",
       "\n",
       "    .dataframe thead th {\n",
       "        text-align: right;\n",
       "    }\n",
       "</style>\n",
       "<table border=\"1\" class=\"dataframe\">\n",
       "  <thead>\n",
       "    <tr style=\"text-align: right;\">\n",
       "      <th></th>\n",
       "      <th>frame</th>\n",
       "      <th>x</th>\n",
       "      <th>y</th>\n",
       "      <th>w</th>\n",
       "      <th>h</th>\n",
       "    </tr>\n",
       "  </thead>\n",
       "  <tbody>\n",
       "    <tr>\n",
       "      <th>0</th>\n",
       "      <td>0</td>\n",
       "      <td>196</td>\n",
       "      <td>351</td>\n",
       "      <td>150</td>\n",
       "      <td>150</td>\n",
       "    </tr>\n",
       "    <tr>\n",
       "      <th>1</th>\n",
       "      <td>1</td>\n",
       "      <td>194</td>\n",
       "      <td>350</td>\n",
       "      <td>153</td>\n",
       "      <td>153</td>\n",
       "    </tr>\n",
       "    <tr>\n",
       "      <th>2</th>\n",
       "      <td>2</td>\n",
       "      <td>192</td>\n",
       "      <td>349</td>\n",
       "      <td>155</td>\n",
       "      <td>155</td>\n",
       "    </tr>\n",
       "  </tbody>\n",
       "</table>\n",
       "</div>"
      ],
      "text/plain": [
       "   frame    x    y    w    h\n",
       "0      0  196  351  150  150\n",
       "1      1  194  350  153  153\n",
       "2      2  192  349  155  155"
      ]
     },
     "execution_count": 7,
     "metadata": {},
     "output_type": "execute_result"
    }
   ],
   "source": [
    "video_df.head(3)"
   ]
  },
  {
   "attachments": {},
   "cell_type": "markdown",
   "metadata": {},
   "source": [
    "## Fit the bounding boxes"
   ]
  },
  {
   "cell_type": "code",
   "execution_count": 8,
   "metadata": {},
   "outputs": [
    {
     "ename": "KeyboardInterrupt",
     "evalue": "",
     "output_type": "error",
     "traceback": [
      "\u001b[0;31m---------------------------------------------------------------------------\u001b[0m",
      "\u001b[0;31mKeyboardInterrupt\u001b[0m                         Traceback (most recent call last)",
      "\u001b[1;32m/Users/matthewkuo/Desktop/software-pipeline/main.ipynb Cell 8\u001b[0m in \u001b[0;36m<cell line: 4>\u001b[0;34m()\u001b[0m\n\u001b[1;32m      <a href='vscode-notebook-cell:/Users/matthewkuo/Desktop/software-pipeline/main.ipynb#X21sZmlsZQ%3D%3D?line=1'>2</a>\u001b[0m video_obj \u001b[39m=\u001b[39m cv2\u001b[39m.\u001b[39mVideoCapture(video_path)\n\u001b[1;32m      <a href='vscode-notebook-cell:/Users/matthewkuo/Desktop/software-pipeline/main.ipynb#X21sZmlsZQ%3D%3D?line=3'>4</a>\u001b[0m \u001b[39mfor\u001b[39;00m index, row \u001b[39min\u001b[39;00m video_df\u001b[39m.\u001b[39miterrows():\n\u001b[1;32m      <a href='vscode-notebook-cell:/Users/matthewkuo/Desktop/software-pipeline/main.ipynb#X21sZmlsZQ%3D%3D?line=4'>5</a>\u001b[0m     \u001b[39m# read the frame from the video\u001b[39;00m\n\u001b[0;32m----> <a href='vscode-notebook-cell:/Users/matthewkuo/Desktop/software-pipeline/main.ipynb#X21sZmlsZQ%3D%3D?line=5'>6</a>\u001b[0m     video_obj\u001b[39m.\u001b[39;49mset(cv2\u001b[39m.\u001b[39;49mCAP_PROP_POS_FRAMES, row[\u001b[39m'\u001b[39;49m\u001b[39mframe\u001b[39;49m\u001b[39m'\u001b[39;49m])\n\u001b[1;32m      <a href='vscode-notebook-cell:/Users/matthewkuo/Desktop/software-pipeline/main.ipynb#X21sZmlsZQ%3D%3D?line=6'>7</a>\u001b[0m     ret, frame \u001b[39m=\u001b[39m video_obj\u001b[39m.\u001b[39mread()\n\u001b[1;32m      <a href='vscode-notebook-cell:/Users/matthewkuo/Desktop/software-pipeline/main.ipynb#X21sZmlsZQ%3D%3D?line=8'>9</a>\u001b[0m     x, y, w, h \u001b[39m=\u001b[39m \u001b[39mint\u001b[39m(row[\u001b[39m'\u001b[39m\u001b[39mx\u001b[39m\u001b[39m'\u001b[39m]), \u001b[39mint\u001b[39m(row[\u001b[39m'\u001b[39m\u001b[39my\u001b[39m\u001b[39m'\u001b[39m]), \u001b[39mint\u001b[39m(row[\u001b[39m'\u001b[39m\u001b[39mw\u001b[39m\u001b[39m'\u001b[39m]), \u001b[39mint\u001b[39m(row[\u001b[39m'\u001b[39m\u001b[39mh\u001b[39m\u001b[39m'\u001b[39m])\n",
      "\u001b[0;31mKeyboardInterrupt\u001b[0m: "
     ]
    }
   ],
   "source": [
    "video_path = './ML0001_1.mp4'\n",
    "video_obj = cv2.VideoCapture(video_path)\n",
    "\n",
    "for index, row in video_df.iterrows():\n",
    "    # read the frame from the video\n",
    "    video_obj.set(cv2.CAP_PROP_POS_FRAMES, row['frame'])\n",
    "    ret, frame = video_obj.read()\n",
    "    \n",
    "    x, y, w, h = int(row['x']), int(row['y']), int(row['w']), int(row['h'])\n",
    "    cv2.rectangle(frame, (x, y), (x + w, y + h), (0, 255, 0), 2)\n",
    "\n",
    "    cv2.imshow(\"Frame with bounding box\", frame)\n",
    "    cv2.waitKey(1)\n",
    "\n",
    "video.release()"
   ]
  },
  {
   "attachments": {},
   "cell_type": "markdown",
   "metadata": {},
   "source": [
    "## Format in JSON"
   ]
  },
  {
   "cell_type": "code",
   "execution_count": null,
   "metadata": {},
   "outputs": [],
   "source": [
    "json_dict = {\n",
    "    'input_file_name': path,\n",
    "    'input_resolution': '',\n",
    "    'generator': 'facerectangles.exe',\n",
    "    'date': '',\n",
    "    'frame_count': frame_count,\n",
    "    'output': video_df.to_json(orient = 'frame')\n",
    "}"
   ]
  },
  {
   "cell_type": "code",
   "execution_count": null,
   "metadata": {},
   "outputs": [],
   "source": [
    "json_dict = {\n",
    "    \n",
    "}"
   ]
  },
  {
   "cell_type": "code",
   "execution_count": null,
   "metadata": {},
   "outputs": [],
   "source": [
    "output_path = path[0:-4] + '_facerectanges.json'\n",
    "json_object = json.dump(json_dict, output_path, indent = 4) "
   ]
  }
 ],
 "metadata": {
  "kernelspec": {
   "display_name": "jupyter",
   "language": "python",
   "name": "python3"
  },
  "language_info": {
   "codemirror_mode": {
    "name": "ipython",
    "version": 3
   },
   "file_extension": ".py",
   "mimetype": "text/x-python",
   "name": "python",
   "nbconvert_exporter": "python",
   "pygments_lexer": "ipython3",
   "version": "3.9.15"
  },
  "orig_nbformat": 4
 },
 "nbformat": 4,
 "nbformat_minor": 2
}
