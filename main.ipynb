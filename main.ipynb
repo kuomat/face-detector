{
 "cells": [
  {
   "cell_type": "code",
   "execution_count": 2,
   "metadata": {},
   "outputs": [],
   "source": [
    "import pandas as pd\n",
    "import cv2\n",
    "import imutils\n",
    "import json \n",
    "import urllib.request"
   ]
  },
  {
   "attachments": {},
   "cell_type": "markdown",
   "metadata": {},
   "source": [
    "## Get XML File"
   ]
  },
  {
   "cell_type": "code",
   "execution_count": 3,
   "metadata": {},
   "outputs": [],
   "source": [
    "url = \"https://raw.githubusercontent.com/opencv/opencv/master/data/haarcascades/haarcascade_frontalface_default.xml\"\n",
    "response = urllib.request.urlopen(url)\n",
    "xml_bytes = response.read()\n",
    "\n",
    "# Load the classifier\n",
    "xml_string = xml_bytes.decode('utf-8')\n",
    "fs = cv2.FileStorage(xml_string, cv2.FILE_STORAGE_READ | cv2.FILE_STORAGE_MEMORY)"
   ]
  },
  {
   "attachments": {},
   "cell_type": "markdown",
   "metadata": {},
   "source": [
    "## Detect Face"
   ]
  },
  {
   "cell_type": "code",
   "execution_count": 4,
   "metadata": {},
   "outputs": [],
   "source": [
    "# Function to extract frames\n",
    "def extract_faces(filepath):\n",
    "  # Path to video file\n",
    "  vid_obj = cv2.VideoCapture(filepath)\n",
    "\n",
    "  rows = []\n",
    "\n",
    "  frame_count = 0\n",
    "\n",
    "  # Load face detector\n",
    "  detector = cv2.CascadeClassifier()\n",
    "  detector.read(fs.getFirstTopLevelNode())\n",
    "\n",
    "  while True:\n",
    "      # Read the next video object\n",
    "      success, image = vid_obj.read()\n",
    "\n",
    "      if not success: \n",
    "        break\n",
    "      \n",
    "      # Resize image and convert it to grayscale\n",
    "      image = imutils.resize(image, width=500)\n",
    "      gray = cv2.cvtColor(image, cv2.COLOR_BGR2GRAY)\n",
    "\n",
    "      # detect faces in image using the haar cascade face detector\n",
    "      rects = detector.detectMultiScale(image=gray, \n",
    "                                        scaleFactor=1.1, \n",
    "                                        minNeighbors=9, \n",
    "                                        minSize=(30, 30), \n",
    "                                        flags=cv2.CASCADE_SCALE_IMAGE)\n",
    "\n",
    "      #extract x,y,w,h of each rect and store in dataframe\n",
    "      for (x, y, w, h) in rects:\n",
    "        row = {'frame': frame_count, 'x': x, 'y': y, 'w': w, 'h': h}\n",
    "        rows.append(row)\n",
    "\n",
    "      frame_count += 1\n",
    "  return 0, 0, 0, 0, 0, pd.DataFrame(rows)"
   ]
  },
  {
   "cell_type": "code",
   "execution_count": 5,
   "metadata": {},
   "outputs": [
    {
     "data": {
      "text/html": [
       "<div>\n",
       "<style scoped>\n",
       "    .dataframe tbody tr th:only-of-type {\n",
       "        vertical-align: middle;\n",
       "    }\n",
       "\n",
       "    .dataframe tbody tr th {\n",
       "        vertical-align: top;\n",
       "    }\n",
       "\n",
       "    .dataframe thead th {\n",
       "        text-align: right;\n",
       "    }\n",
       "</style>\n",
       "<table border=\"1\" class=\"dataframe\">\n",
       "  <thead>\n",
       "    <tr style=\"text-align: right;\">\n",
       "      <th></th>\n",
       "      <th>frame</th>\n",
       "      <th>x</th>\n",
       "      <th>y</th>\n",
       "      <th>w</th>\n",
       "      <th>h</th>\n",
       "    </tr>\n",
       "  </thead>\n",
       "  <tbody>\n",
       "    <tr>\n",
       "      <th>0</th>\n",
       "      <td>0</td>\n",
       "      <td>196</td>\n",
       "      <td>351</td>\n",
       "      <td>150</td>\n",
       "      <td>150</td>\n",
       "    </tr>\n",
       "    <tr>\n",
       "      <th>1</th>\n",
       "      <td>1</td>\n",
       "      <td>194</td>\n",
       "      <td>350</td>\n",
       "      <td>153</td>\n",
       "      <td>153</td>\n",
       "    </tr>\n",
       "    <tr>\n",
       "      <th>2</th>\n",
       "      <td>2</td>\n",
       "      <td>192</td>\n",
       "      <td>349</td>\n",
       "      <td>155</td>\n",
       "      <td>155</td>\n",
       "    </tr>\n",
       "  </tbody>\n",
       "</table>\n",
       "</div>"
      ],
      "text/plain": [
       "   frame    x    y    w    h\n",
       "0      0  196  351  150  150\n",
       "1      1  194  350  153  153\n",
       "2      2  192  349  155  155"
      ]
     },
     "execution_count": 5,
     "metadata": {},
     "output_type": "execute_result"
    }
   ],
   "source": [
    "video_path = 'INSERT_PATH'\n",
    "a, b, c, d, e, video_df = extract_faces(video_path)\n",
    "video_df.head(3)"
   ]
  },
  {
   "attachments": {},
   "cell_type": "markdown",
   "metadata": {},
   "source": [
    "## Fit the bounding boxes"
   ]
  },
  {
   "cell_type": "code",
   "execution_count": 6,
   "metadata": {},
   "outputs": [
    {
     "ename": "KeyboardInterrupt",
     "evalue": "",
     "output_type": "error",
     "traceback": [
      "\u001b[0;31m---------------------------------------------------------------------------\u001b[0m",
      "\u001b[0;31mKeyboardInterrupt\u001b[0m                         Traceback (most recent call last)",
      "\u001b[1;32m/Users/matthewkuo/Desktop/software-pipeline/main.ipynb Cell 8\u001b[0m in \u001b[0;36m<cell line: 21>\u001b[0;34m()\u001b[0m\n\u001b[1;32m      <a href='vscode-notebook-cell:/Users/matthewkuo/Desktop/software-pipeline/main.ipynb#X11sZmlsZQ%3D%3D?line=4'>5</a>\u001b[0m \u001b[39m# for i, frame in enumerate(frames):\u001b[39;00m\n\u001b[1;32m      <a href='vscode-notebook-cell:/Users/matthewkuo/Desktop/software-pipeline/main.ipynb#X11sZmlsZQ%3D%3D?line=5'>6</a>\u001b[0m \u001b[39m#     # Get the bounding boxes for the current frame\u001b[39;00m\n\u001b[1;32m      <a href='vscode-notebook-cell:/Users/matthewkuo/Desktop/software-pipeline/main.ipynb#X11sZmlsZQ%3D%3D?line=6'>7</a>\u001b[0m \u001b[39m#     row = video_df[video_df['frame'] == i]\u001b[39;00m\n\u001b[0;32m   (...)\u001b[0m\n\u001b[1;32m     <a href='vscode-notebook-cell:/Users/matthewkuo/Desktop/software-pipeline/main.ipynb#X11sZmlsZQ%3D%3D?line=17'>18</a>\u001b[0m \u001b[39m#     if key == ord('q') or key == 27: # 'q' or 'Esc' key to quit\u001b[39;00m\n\u001b[1;32m     <a href='vscode-notebook-cell:/Users/matthewkuo/Desktop/software-pipeline/main.ipynb#X11sZmlsZQ%3D%3D?line=18'>19</a>\u001b[0m \u001b[39m#         break\u001b[39;00m\n\u001b[1;32m     <a href='vscode-notebook-cell:/Users/matthewkuo/Desktop/software-pipeline/main.ipynb#X11sZmlsZQ%3D%3D?line=20'>21</a>\u001b[0m \u001b[39mfor\u001b[39;00m index, row \u001b[39min\u001b[39;00m video_df\u001b[39m.\u001b[39miterrows():\n\u001b[1;32m     <a href='vscode-notebook-cell:/Users/matthewkuo/Desktop/software-pipeline/main.ipynb#X11sZmlsZQ%3D%3D?line=21'>22</a>\u001b[0m     \u001b[39m# read the frame from the video\u001b[39;00m\n\u001b[0;32m---> <a href='vscode-notebook-cell:/Users/matthewkuo/Desktop/software-pipeline/main.ipynb#X11sZmlsZQ%3D%3D?line=22'>23</a>\u001b[0m     video_obj\u001b[39m.\u001b[39;49mset(cv2\u001b[39m.\u001b[39;49mCAP_PROP_POS_FRAMES, row[\u001b[39m'\u001b[39;49m\u001b[39mframe\u001b[39;49m\u001b[39m'\u001b[39;49m])\n\u001b[1;32m     <a href='vscode-notebook-cell:/Users/matthewkuo/Desktop/software-pipeline/main.ipynb#X11sZmlsZQ%3D%3D?line=23'>24</a>\u001b[0m     ret, frame \u001b[39m=\u001b[39m video_obj\u001b[39m.\u001b[39mread()\n\u001b[1;32m     <a href='vscode-notebook-cell:/Users/matthewkuo/Desktop/software-pipeline/main.ipynb#X11sZmlsZQ%3D%3D?line=25'>26</a>\u001b[0m     x, y, w, h \u001b[39m=\u001b[39m \u001b[39mint\u001b[39m(row[\u001b[39m'\u001b[39m\u001b[39mx\u001b[39m\u001b[39m'\u001b[39m] \u001b[39m*\u001b[39m scale_factor), \u001b[39mint\u001b[39m(row[\u001b[39m'\u001b[39m\u001b[39my\u001b[39m\u001b[39m'\u001b[39m] \u001b[39m*\u001b[39m scale_factor), \u001b[39mint\u001b[39m(row[\u001b[39m'\u001b[39m\u001b[39mw\u001b[39m\u001b[39m'\u001b[39m] \u001b[39m*\u001b[39m scale_factor), \u001b[39mint\u001b[39m(row[\u001b[39m'\u001b[39m\u001b[39mh\u001b[39m\u001b[39m'\u001b[39m] \u001b[39m*\u001b[39m scale_factor)\n",
      "\u001b[0;31mKeyboardInterrupt\u001b[0m: "
     ]
    },
    {
     "ename": "",
     "evalue": "",
     "output_type": "error",
     "traceback": [
      "\u001b[1;31mThe Kernel crashed while executing code in the the current cell or a previous cell. Please review the code in the cell(s) to identify a possible cause of the failure. Click <a href='https://aka.ms/vscodeJupyterKernelCrash'>here</a> for more info. View Jupyter <a href='command:jupyter.viewOutput'>log</a> for further details."
     ]
    }
   ],
   "source": [
    "video_obj = cv2.VideoCapture(video_path)\n",
    "fps = video_obj.get(cv2.CAP_PROP_FPS)\n",
    "scale_factor = int(video_obj.get(cv2.CAP_PROP_FRAME_WIDTH)) / 500\n",
    "\n",
    "for index, row in video_df.iterrows():\n",
    "    # read the frame from the video\n",
    "    video_obj.set(cv2.CAP_PROP_POS_FRAMES, row['frame'])\n",
    "    ret, frame = video_obj.read()\n",
    "    \n",
    "    x, y, w, h = int(row['x'] * scale_factor), int(row['y'] * scale_factor), int(row['w'] * scale_factor), int(row['h'] * scale_factor)\n",
    "    cv2.rectangle(frame, (x, y), (x + w, y + h), (0, 255, 0), 2)\n",
    "\n",
    "    cv2.imshow(\"Frame with bounding box\", frame)\n",
    "    cv2.waitKey(1)\n",
    "\n",
    "# Release the video object and close all windows\n",
    "video_obj.release()\n",
    "cv2.destroyAllWindows()"
   ]
  },
  {
   "attachments": {},
   "cell_type": "markdown",
   "metadata": {},
   "source": [
    "## JSON Converter"
   ]
  },
  {
   "cell_type": "code",
   "execution_count": 55,
   "metadata": {},
   "outputs": [],
   "source": [
    "import json \n",
    "from datetime import datetime\n",
    "\n",
    "def json_converter(filename, video_metadata):\n",
    "    # Get today's date\n",
    "    creation_date = datetime.now().strftime(\"%Y-%m-%d\")\n",
    "\n",
    "    # Convert video_metadata into appropriate format\n",
    "    start_time, end_time, start_frame, end_frame, fps, video_df = video_metadata\n",
    "\n",
    "    rows_dict = {}\n",
    "    for index, row in video_df.iterrows():\n",
    "        key = \"FrameNumber\" + str(row['frame'])\n",
    "        values = {\"FrameCoordinates\": [str(row['x']), str(row['y']), str(row['w']), str(row['h'])]}\n",
    "        rows_dict[key] = values\n",
    "\n",
    "    json_obj = {\n",
    "        \"VideoInformation\": filename,\n",
    "        \"CreationDate\": creation_date,\n",
    "        \"VideoMetadata\": {\n",
    "            \"StartTime\": start_time,\n",
    "            \"EndTime\": end_time,\n",
    "            \"StartFrame\": start_frame,\n",
    "            \"EndFrame\": end_frame,\n",
    "            \"Fps\": fps,\n",
    "            \"FrameData\": rows_dict\n",
    "        }\n",
    "    }\n",
    "\n",
    "    return json.dumps(json_obj)"
   ]
  },
  {
   "attachments": {},
   "cell_type": "markdown",
   "metadata": {},
   "source": [
    "## Main Function "
   ]
  },
  {
   "cell_type": "code",
   "execution_count": null,
   "metadata": {},
   "outputs": [],
   "source": [
    "def face_detector(filename, filepath, start_time=0, end_time=None, start_frame=0, end_frame=None, fps=None):\n",
    "    video_metadata = extract_faces(filepath, start_time, end_time, start_frame, end_frame, fps)\n",
    "    return json_converter(filename, video_metadata)"
   ]
  }
 ],
 "metadata": {
  "kernelspec": {
   "display_name": "jupyter",
   "language": "python",
   "name": "python3"
  },
  "language_info": {
   "codemirror_mode": {
    "name": "ipython",
    "version": 3
   },
   "file_extension": ".py",
   "mimetype": "text/x-python",
   "name": "python",
   "nbconvert_exporter": "python",
   "pygments_lexer": "ipython3",
   "version": "3.9.15"
  },
  "orig_nbformat": 4
 },
 "nbformat": 4,
 "nbformat_minor": 2
}
