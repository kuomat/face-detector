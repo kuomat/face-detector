{
 "cells": [
  {
   "cell_type": "code",
   "execution_count": 22,
   "metadata": {},
   "outputs": [],
   "source": [
    "import pandas as pd\n",
    "import numpy as np\n",
    "import cv2\n",
    "import imutils\n",
    "import json \n",
    "import requests"
   ]
  },
  {
   "attachments": {},
   "cell_type": "markdown",
   "metadata": {},
   "source": [
    "## Get XML File"
   ]
  },
  {
   "cell_type": "code",
   "execution_count": 23,
   "metadata": {},
   "outputs": [
    {
     "data": {
      "text/plain": [
       "True"
      ]
     },
     "execution_count": 23,
     "metadata": {},
     "output_type": "execute_result"
    }
   ],
   "source": [
    "# get the frontalface xml file\n",
    "url = \"https://raw.githubusercontent.com/opencv/opencv/master/data/haarcascades/haarcascade_frontalface_default.xml\"\n",
    "\n",
    "response = requests.get(url)\n",
    "# content = bytes(response.content)\n",
    "# Load the XML file into memory as a string\n",
    "xml_string = response.content.decode('utf-8')\n",
    "\n",
    "# Create a FileStorage object and read the XML string into it\n",
    "fs = cv2.FileStorage(xml_string, cv2.FILE_STORAGE_READ | cv2.FILE_STORAGE_MEMORY)\n",
    "cascade = cv2.CascadeClassifier()\n",
    "cascade.read(fs.getFirstTopLevelNode())"
   ]
  },
  {
   "attachments": {},
   "cell_type": "markdown",
   "metadata": {},
   "source": [
    "## Detect Face"
   ]
  },
  {
   "cell_type": "code",
   "execution_count": 34,
   "metadata": {},
   "outputs": [],
   "source": [
    "rows = []\n",
    "\n",
    "\n",
    "# Function to extract frames\n",
    "def extract_faces(path):\n",
    "  # Path to video file\n",
    "  vid_obj = cv2.VideoCapture(path)\n",
    "\n",
    "  # checks whether frames were extracted\n",
    "  success = 1\n",
    "  frame_count = 0\n",
    "\n",
    "  while success:\n",
    "      # vidObj object calls read\n",
    "      # function extract frames\n",
    "      success, image = vid_obj.read()\n",
    "\n",
    "      if image is None: \n",
    "        break\n",
    "\n",
    "      #loading face detector\n",
    "      detector = cv2.CascadeClassifier()\n",
    "      detector.read(fs.getFirstTopLevelNode())\n",
    "\n",
    "      # resize image and convert it to grayscale\n",
    "      image = imutils.resize(image, width=500)\n",
    "      gray = cv2.cvtColor(image, cv2.COLOR_BGR2GRAY)\n",
    "\n",
    "      # detect faces in image using the haar cascade face detector\n",
    "      rects = detector.detectMultiScale(image=gray, \n",
    "                                        scaleFactor=1.1, \n",
    "                                        minNeighbors=9, \n",
    "                                        minSize=(30, 30), \n",
    "                                        flags=cv2.CASCADE_SCALE_IMAGE)\n",
    "\n",
    "      #extract x,y,w,h of each rect and store in dataframe\n",
    "      for (x, y, w, h) in rects:\n",
    "        row = {'frame': frame_count, 'x': x, 'y': y, 'w': w, 'h': h}\n",
    "        rows.append(row)\n",
    "\n",
    "      frame_count += 1\n",
    "  return 0, 0, 0, 0, 0, pd.DataFrame(rows)"
   ]
  },
  {
   "cell_type": "code",
   "execution_count": 35,
   "metadata": {},
   "outputs": [],
   "source": [
    "video_path = './ML0001_1.mp4'\n",
    "video_df = extract_faces(video_path)"
   ]
  },
  {
   "cell_type": "code",
   "execution_count": 36,
   "metadata": {},
   "outputs": [
    {
     "ename": "AttributeError",
     "evalue": "'tuple' object has no attribute 'head'",
     "output_type": "error",
     "traceback": [
      "\u001b[0;31m---------------------------------------------------------------------------\u001b[0m",
      "\u001b[0;31mAttributeError\u001b[0m                            Traceback (most recent call last)",
      "\u001b[1;32m/Users/matthewkuo/Desktop/software-pipeline/main.ipynb Cell 7\u001b[0m in \u001b[0;36m<cell line: 1>\u001b[0;34m()\u001b[0m\n\u001b[0;32m----> <a href='vscode-notebook-cell:/Users/matthewkuo/Desktop/software-pipeline/main.ipynb#W5sZmlsZQ%3D%3D?line=0'>1</a>\u001b[0m video_df\u001b[39m.\u001b[39;49mhead(\u001b[39m3\u001b[39m)\n",
      "\u001b[0;31mAttributeError\u001b[0m: 'tuple' object has no attribute 'head'"
     ]
    }
   ],
   "source": [
    "video_df.head(3)"
   ]
  },
  {
   "attachments": {},
   "cell_type": "markdown",
   "metadata": {},
   "source": [
    "## Fit the bounding boxes"
   ]
  },
  {
   "cell_type": "code",
   "execution_count": 27,
   "metadata": {},
   "outputs": [],
   "source": [
    "video_obj = cv2.VideoCapture(video_path)\n",
    "\n",
    "for index, row in video_df.iterrows():\n",
    "    # read the frame from the video\n",
    "    video_obj.set(cv2.CAP_PROP_POS_FRAMES, row['frame'])\n",
    "    ret, frame = video_obj.read()\n",
    "    \n",
    "    x, y, w, h = int(row['x']), int(row['y']), int(row['w']), int(row['h'])\n",
    "    cv2.rectangle(frame, (x, y), (x + w, y + h), (0, 255, 0), 2)\n",
    "\n",
    "    cv2.imshow(\"Frame with bounding box\", frame)\n",
    "    cv2.waitKey(1)\n",
    "\n",
    "video.release()"
   ]
  },
  {
   "attachments": {},
   "cell_type": "markdown",
   "metadata": {},
   "source": [
    "## Format in JSON"
   ]
  },
  {
   "cell_type": "code",
   "execution_count": 28,
   "metadata": {},
   "outputs": [
    {
     "ename": "NameError",
     "evalue": "name 'path' is not defined",
     "output_type": "error",
     "traceback": [
      "\u001b[0;31m---------------------------------------------------------------------------\u001b[0m",
      "\u001b[0;31mNameError\u001b[0m                                 Traceback (most recent call last)",
      "\u001b[1;32m/Users/matthewkuo/Desktop/software-pipeline/main.ipynb Cell 11\u001b[0m in \u001b[0;36m<cell line: 2>\u001b[0;34m()\u001b[0m\n\u001b[1;32m      <a href='vscode-notebook-cell:/Users/matthewkuo/Desktop/software-pipeline/main.ipynb#X12sZmlsZQ%3D%3D?line=0'>1</a>\u001b[0m json_dict \u001b[39m=\u001b[39m {\n\u001b[0;32m----> <a href='vscode-notebook-cell:/Users/matthewkuo/Desktop/software-pipeline/main.ipynb#X12sZmlsZQ%3D%3D?line=1'>2</a>\u001b[0m     \u001b[39m'\u001b[39m\u001b[39minput_file_name\u001b[39m\u001b[39m'\u001b[39m: path,\n\u001b[1;32m      <a href='vscode-notebook-cell:/Users/matthewkuo/Desktop/software-pipeline/main.ipynb#X12sZmlsZQ%3D%3D?line=2'>3</a>\u001b[0m     \u001b[39m'\u001b[39m\u001b[39minput_resolution\u001b[39m\u001b[39m'\u001b[39m: \u001b[39m'\u001b[39m\u001b[39m'\u001b[39m,\n\u001b[1;32m      <a href='vscode-notebook-cell:/Users/matthewkuo/Desktop/software-pipeline/main.ipynb#X12sZmlsZQ%3D%3D?line=3'>4</a>\u001b[0m     \u001b[39m'\u001b[39m\u001b[39mgenerator\u001b[39m\u001b[39m'\u001b[39m: \u001b[39m'\u001b[39m\u001b[39mfacerectangles.exe\u001b[39m\u001b[39m'\u001b[39m,\n\u001b[1;32m      <a href='vscode-notebook-cell:/Users/matthewkuo/Desktop/software-pipeline/main.ipynb#X12sZmlsZQ%3D%3D?line=4'>5</a>\u001b[0m     \u001b[39m'\u001b[39m\u001b[39mdate\u001b[39m\u001b[39m'\u001b[39m: \u001b[39m'\u001b[39m\u001b[39m'\u001b[39m,\n\u001b[1;32m      <a href='vscode-notebook-cell:/Users/matthewkuo/Desktop/software-pipeline/main.ipynb#X12sZmlsZQ%3D%3D?line=5'>6</a>\u001b[0m     \u001b[39m'\u001b[39m\u001b[39mframe_count\u001b[39m\u001b[39m'\u001b[39m: frame_count,\n\u001b[1;32m      <a href='vscode-notebook-cell:/Users/matthewkuo/Desktop/software-pipeline/main.ipynb#X12sZmlsZQ%3D%3D?line=6'>7</a>\u001b[0m     \u001b[39m'\u001b[39m\u001b[39moutput\u001b[39m\u001b[39m'\u001b[39m: video_df\u001b[39m.\u001b[39mto_json(orient \u001b[39m=\u001b[39m \u001b[39m'\u001b[39m\u001b[39mframe\u001b[39m\u001b[39m'\u001b[39m)\n\u001b[1;32m      <a href='vscode-notebook-cell:/Users/matthewkuo/Desktop/software-pipeline/main.ipynb#X12sZmlsZQ%3D%3D?line=7'>8</a>\u001b[0m }\n",
      "\u001b[0;31mNameError\u001b[0m: name 'path' is not defined"
     ]
    }
   ],
   "source": [
    "json_dict = {\n",
    "    'input_file_name': path,\n",
    "    'input_resolution': '',\n",
    "    'generator': 'facerectangles.exe',\n",
    "    'date': '',\n",
    "    'frame_count': frame_count,\n",
    "    'output': video_df.to_json(orient = 'frame')\n",
    "}"
   ]
  },
  {
   "cell_type": "code",
   "execution_count": null,
   "metadata": {},
   "outputs": [],
   "source": [
    "json_dict = {\n",
    "    \n",
    "}"
   ]
  },
  {
   "cell_type": "code",
   "execution_count": null,
   "metadata": {},
   "outputs": [],
   "source": [
    "output_path = path[0:-4] + '_facerectanges.json'\n",
    "json_object = json.dump(json_dict, output_path, indent = 4) "
   ]
  },
  {
   "attachments": {},
   "cell_type": "markdown",
   "metadata": {},
   "source": [
    "## JSON Converter"
   ]
  },
  {
   "cell_type": "code",
   "execution_count": 55,
   "metadata": {},
   "outputs": [],
   "source": [
    "import json \n",
    "from datetime import datetime\n",
    "\n",
    "def json_converter(filename, video_metadata):\n",
    "    # Get today's date\n",
    "    creation_date = datetime.now().strftime(\"%Y-%m-%d\")\n",
    "\n",
    "    # Convert video_metadata into appropriate format\n",
    "    start_time, end_time, start_frame, end_frame, fps, video_df = video_metadata\n",
    "\n",
    "    rows_dict = {}\n",
    "    for index, row in video_df.iterrows():\n",
    "        key = \"FrameNumber\" + str(row['frame'])\n",
    "        values = {\"FrameCoordinates\": [str(row['x']), str(row['y']), str(row['w']), str(row['h'])]}\n",
    "        rows_dict[key] = values\n",
    "\n",
    "    json_obj = {\n",
    "        \"VideoInformation\": filename,\n",
    "        \"CreationDate\": creation_date,\n",
    "        \"VideoMetadata\": {\n",
    "            \"StartTime\": start_time,\n",
    "            \"EndTime\": end_time,\n",
    "            \"StartFrame\": start_frame,\n",
    "            \"EndFrame\": end_frame,\n",
    "            \"Fps\": fps,\n",
    "            \"FrameData\": rows_dict\n",
    "        }\n",
    "    }\n",
    "\n",
    "    return json.dumps(json_obj)"
   ]
  },
  {
   "attachments": {},
   "cell_type": "markdown",
   "metadata": {},
   "source": [
    "## Main Function "
   ]
  },
  {
   "cell_type": "code",
   "execution_count": null,
   "metadata": {},
   "outputs": [],
   "source": [
    "def face_detector(filename, filepath, start_time=0, end_time=None, start_frame=0, end_frame=None, fps=None):\n",
    "    video_metadata = extract_faces(filepath, start_time, end_time, start_frame, end_frame, fps)\n",
    "    return json_converter(filename, video_metadata)"
   ]
  }
 ],
 "metadata": {
  "kernelspec": {
   "display_name": "jupyter",
   "language": "python",
   "name": "python3"
  },
  "language_info": {
   "codemirror_mode": {
    "name": "ipython",
    "version": 3
   },
   "file_extension": ".py",
   "mimetype": "text/x-python",
   "name": "python",
   "nbconvert_exporter": "python",
   "pygments_lexer": "ipython3",
   "version": "3.9.15"
  },
  "orig_nbformat": 4
 },
 "nbformat": 4,
 "nbformat_minor": 2
}
